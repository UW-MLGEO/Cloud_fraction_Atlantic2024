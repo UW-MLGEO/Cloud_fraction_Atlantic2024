{
 "cells": [
  {
   "cell_type": "code",
   "execution_count": 5,
   "metadata": {},
   "outputs": [],
   "source": [
    "import numpy as np\n",
    "import xarray as xr\n",
    "import pandas as pd\n",
    "import matplotlib.pyplot as plt\n",
    "import cartopy.crs as ccrs\n",
    "import cartopy.mpl.ticker as cticker\n",
    "\n",
    "\n",
    "from sklearn.preprocessing import StandardScaler\n",
    "from sklearn.decomposition import PCA\n",
    "from sklearn.manifold import TSNE"
   ]
  },
  {
   "cell_type": "code",
   "execution_count": 6,
   "metadata": {},
   "outputs": [
    {
     "name": "stdout",
     "output_type": "stream",
     "text": [
      "Hello\n"
     ]
    }
   ],
   "source": [
    "print('Hello')"
   ]
  },
  {
   "cell_type": "markdown",
   "metadata": {},
   "source": [
    "## Load GEOS Data"
   ]
  },
  {
   "cell_type": "code",
   "execution_count": 7,
   "metadata": {},
   "outputs": [],
   "source": [
    "ds_ci = xr.open_dataset('../data/ai_ready/CloudImageryDataset.nc')\n",
    "ds_co = xr.open_dataset('../data/ai_ready/CloudOpticalDepthDataset.nc')\n",
    "ds_sw = xr.open_dataset('../data/ai_ready/ReflectedSWDataset.nc')"
   ]
  },
  {
   "cell_type": "code",
   "execution_count": 3,
   "metadata": {},
   "outputs": [],
   "source": [
    "CID = ds_ci['CloudImagery']\n",
    "COD = ds_co['CloudOpticalDepth']\n",
    "RSW = ds_sw['ReflectedSW']"
   ]
  },
  {
   "cell_type": "code",
   "execution_count": 4,
   "metadata": {},
   "outputs": [],
   "source": [
    "# Make the shapes of CID and COD same\n",
    "COD = COD[:,:,:-1].copy()\n",
    "\n",
    "# Variables for each RGB\n",
    "CIDR = CID.sel(rgb='red')\n",
    "CIDG = CID.sel(rgb='green')\n",
    "CIDB = CID.sel(rgb='blue')"
   ]
  },
  {
   "cell_type": "code",
   "execution_count": null,
   "metadata": {},
   "outputs": [],
   "source": [
    "# DataFrame containing all the variables\n",
    "df = pd.DataFrame({'cod':COD.data.flatten(),\n",
    "              'cidr': CIDR.data.flatten(),\n",
    "              'cidg': CIDG.data.flatten(),\n",
    "              'cidb': CIDB.data.flatten(),\n",
    "              })\n",
    "df.dropna(inplace=True)\n",
    "df.drop(((df.cidr==0)&(df.cidr==0)&(df.cidr==0)).index)\n",
    "\n",
    "# df\n",
    "scaler = StandardScaler()\n",
    "df_norm=pd.DataFrame(scaler.fit_transform(df))\n",
    "df"
   ]
  },
  {
   "cell_type": "code",
   "execution_count": null,
   "metadata": {},
   "outputs": [],
   "source": [
    "((df.cidr==0)&(df.cidr==0)&(df.cidr==0))"
   ]
  },
  {
   "cell_type": "code",
   "execution_count": null,
   "metadata": {},
   "outputs": [],
   "source": [
    "\n",
    "df.loc[~((df.cidr==0)&(df.cidr==0)&(df.cidr==0))]"
   ]
  },
  {
   "cell_type": "code",
   "execution_count": null,
   "metadata": {},
   "outputs": [],
   "source": [
    "# Perform PCA\n",
    "\n",
    "pca = PCA(n_components=2)\n",
    "pca_result = pca.fit_transform(df_norm)\n",
    "\n",
    "# Plot the PCA result with the custom colormap\n",
    "plt.figure(figsize=(12, 8))\n",
    "scatter = plt.scatter(pca_result[:, 0], pca_result[:, 1], alpha=0.6)\n",
    "\n",
    "# Set habit names as tick labels for the color bar\n",
    "\n",
    "plt.title('PCA Projection of Ice Crystal Images')\n",
    "plt.xlabel('Principal Component 1')\n",
    "plt.ylabel('Principal Component 2')\n",
    "plt.show()"
   ]
  }
 ],
 "metadata": {
  "kernelspec": {
   "display_name": "mlgeo_dataset",
   "language": "python",
   "name": "python3"
  },
  "language_info": {
   "codemirror_mode": {
    "name": "ipython",
    "version": 3
   },
   "file_extension": ".py",
   "mimetype": "text/x-python",
   "name": "python",
   "nbconvert_exporter": "python",
   "pygments_lexer": "ipython3",
   "version": "3.11.10"
  }
 },
 "nbformat": 4,
 "nbformat_minor": 2
}
