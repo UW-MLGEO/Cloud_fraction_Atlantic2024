{
 "cells": [
  {
   "cell_type": "code",
   "execution_count": 1,
   "metadata": {},
   "outputs": [],
   "source": [
    "\n",
    "import numpy as np\n",
    "import xarray as xr\n",
    "import pandas as pd\n",
    "import matplotlib.pyplot as plt\n",
    "import cartopy.crs as ccrs\n",
    "import cartopy.mpl.ticker as cticker\n",
    "import cartopy.feature as cfeature\n",
    "from scipy import stats\n",
    "from scipy.interpolate import griddata"
   ]
  },
  {
   "cell_type": "code",
   "execution_count": 2,
   "metadata": {},
   "outputs": [],
   "source": [
    "def crop_da(ds,min_lon,max_lon,min_lat,max_lat):\n",
    "\n",
    "    mask_lon = (ds.lon >= min_lon) & (ds.lon <= max_lon)\n",
    "    mask_lat = (ds.lat >= min_lat) & (ds.lat <= max_lat)\n",
    "\n",
    "    ds = ds.where(mask_lon & mask_lat, drop=True)\n",
    "    return ds"
   ]
  },
  {
   "cell_type": "code",
   "execution_count": 3,
   "metadata": {},
   "outputs": [],
   "source": [
    "def rgb_to_grayscale(da):\n",
    "    \"\"\"Converts an RGB xarray DataArray to grayscale.\"\"\"\n",
    "    return (da.sel(rgb='red') * 0.2989 + \n",
    "            da.sel(rgb='green') * 0.5870 + \n",
    "            da.sel(rgb='blue') * 0.1140)"
   ]
  },
  {
   "cell_type": "code",
   "execution_count": 4,
   "metadata": {},
   "outputs": [],
   "source": [
    "\n",
    "\n",
    "def remapping_3d_fields(xr_input,vars, output_lons, output_lats,output_times=None):\n",
    "\n",
    "    input_lons = xr_input['lon'].values\n",
    "    input_lats = xr_input['lat'].values\n",
    "    input_times = xr_input['time'].values\n",
    "\n",
    "    if output_times is None:\n",
    "        output_times = input_times\n",
    "\n",
    "    if len(input_lons.shape)==1:\n",
    "        input_lons3, input_lats3= np.meshgrid(input_lons, input_lats)\n",
    "    elif len(input_lons.shape)==2:\n",
    "\n",
    "        input_lons3, input_lats3= np.meshgrid(input_lons[0,:], input_lats[0,:])\n",
    "        # input_lons3 = np.repeat(input_lons[:,None,:], input_lats.shape[-1],axis=1)\n",
    "        # input_lats3 = np.repeat(input_lats[:,:,None], input_lons.shape[-1],axis=2)\n",
    "        # input_times3 = np.repeat(input_times[:,None], input_lons.shape[1],axis=1)\n",
    "        # input_times3 = np.repeat(input_times3[:,:,None], input_lons.shape[2],axis=2)\n",
    "    elif len(input_lons.shape)==3:\n",
    "        input_lons3 = input_lons[0,...]\n",
    "        input_lats3 = input_lats[0,...]\n",
    "        # input_times3 = np.repeat(input_times[:,None], input_lons.shape[1],axis=1)\n",
    "        # input_times3 = np.repeat(input_times3[:,:,None], input_lons.shape[2],axis=2)\n",
    "    \n",
    "    if len(output_lons.shape)==1:\n",
    "        output_lons3, output_lats3 = np.meshgrid(output_lons, output_lats)\n",
    "    elif len(output_lons.shape)==2:\n",
    "        output_lons3, output_lats3= np.meshgrid(output_lons[0,:], output_lats[0,:])\n",
    "        # output_lons3 = np.repeat(output_lons[:,None,:], output_lats.shape[-1],axis=1)\n",
    "        # output_lats3 = np.repeat(output_lats[:,:,None], output_lons.shape[-1],axis=2)\n",
    "        # output_times3 = np.repeat(output_times[:,  None], output_lons.shape[1],axis=1)\n",
    "        # output_times3 = np.repeat(output_times3[:,:,None], output_lons.shape[2],axis=2)\n",
    "    elif len(output_lons.shape)==3:\n",
    "        output_lons3 = output_lons[0,...]\n",
    "        output_lats3 = output_lats[0,...]\n",
    "        # output_times3 = np.repeat(output_times[:,  None], output_lons.shape[1],axis=1)\n",
    "        # output_times3 = np.repeat(output_times3[:,:,None], output_lons.shape[2],axis=2)\n",
    "    \n",
    "    input_lons3 = input_lons3.flatten()\n",
    "    input_lats3 = input_lats3.flatten()\n",
    "    # input_times3 = input_times3.flatten()\n",
    "    # output_lons3 = output_lons3.flatten()\n",
    "    # output_lats3 = output_lats3.flatten()\n",
    "    # output_times3 = output_times3.flatten()\n",
    "\n",
    "    input_points  = np.vstack((input_lons3 , input_lats3 )).T\n",
    "    output_points = (output_lons3, output_lats3)\n",
    "    xr_output = xr.Dataset({})\n",
    "    # xr_output = xr.Dataset({'time': output_times, 'latitude': output_lats, 'longitude': output_lons})\n",
    "\n",
    "    \n",
    "    for var in vars:\n",
    "        print(var)\n",
    "        output_field = np.zeros((len(input_times),output_lons3.shape[0],output_lons3.shape[1]))\n",
    "        for itime in range(len(input_times)):\n",
    "            print('Time:', output_times[itime])\n",
    "            input_field = xr_input[var].isel(time=itime).values\n",
    "            output_field[itime,...] = griddata(input_points, input_field.flatten(), output_points, method='linear')\n",
    "        xr_output[var] = xr.DataArray(output_field, dims=['time','latitude', 'longitude'], coords={'time': output_times,'latitude': output_lats, 'longitude': output_lons})\n",
    "    return xr_output\n",
    "    "
   ]
  },
  {
   "cell_type": "code",
   "execution_count": 5,
   "metadata": {},
   "outputs": [],
   "source": [
    "direc_data = '../full_data/ai_ready/'"
   ]
  },
  {
   "cell_type": "code",
   "execution_count": 6,
   "metadata": {},
   "outputs": [],
   "source": [
    "# Define the region of interest\n",
    "\n",
    "min_lon = -125\n",
    "max_lon = -114\n",
    "min_lat = 32\n",
    "max_lat = 42"
   ]
  },
  {
   "cell_type": "code",
   "execution_count": 7,
   "metadata": {},
   "outputs": [],
   "source": [
    "# Load the datasets\n",
    "ds_ci = xr.open_dataset(f'{direc_data}CloudImageryDataset.nc')\n",
    "ds_co = xr.open_dataset(f'{direc_data}CloudOpticalDepthDataset.nc')\n",
    "ds_sw = xr.open_dataset(f'{direc_data}ReflectedSWDataset.nc')\n",
    "# Convert the RGB images to grayscale\n",
    "ds_ci['GrayImagery'] = rgb_to_grayscale(ds_ci.CloudImagery)\n"
   ]
  },
  {
   "cell_type": "code",
   "execution_count": 9,
   "metadata": {},
   "outputs": [],
   "source": [
    "# Crop the datasets\n",
    "ds_ci = crop_da(ds_ci,min_lon,max_lon,min_lat,max_lat)\n",
    "ds_co = crop_da(ds_co,min_lon,max_lon,min_lat,max_lat)\n",
    "ds_sw = crop_da(ds_sw,min_lon,max_lon,min_lat,max_lat)"
   ]
  },
  {
   "cell_type": "code",
   "execution_count": 10,
   "metadata": {},
   "outputs": [],
   "source": [
    "# Reverse the latitude dimension to have it in ascending order\n",
    "\n",
    "ds_ci=ds_ci.isel(latitude=slice(None, None, -1))\n",
    "ds_co=ds_co.isel(latitude=slice(None, None, -1))\n",
    "ds_sw=ds_sw.isel(latitude=slice(None, None, -1))"
   ]
  },
  {
   "cell_type": "code",
   "execution_count": 12,
   "metadata": {},
   "outputs": [],
   "source": [
    "lon_remapped = np.linspace(-125,-114,11*40+1)\n",
    "lat_remapped = np.linspace(32,42,10*40+1)\n"
   ]
  },
  {
   "cell_type": "code",
   "execution_count": 13,
   "metadata": {},
   "outputs": [
    {
     "name": "stdout",
     "output_type": "stream",
     "text": [
      "CloudOpticalDepth\n",
      "0\n",
      "1\n",
      "2\n",
      "3\n",
      "4\n",
      "5\n",
      "6\n",
      "7\n",
      "8\n",
      "9\n",
      "GrayImagery\n",
      "0\n",
      "1\n",
      "2\n",
      "3\n",
      "4\n",
      "5\n",
      "6\n",
      "7\n",
      "8\n",
      "9\n",
      "ReflectedSW\n",
      "0\n",
      "1\n",
      "2\n",
      "3\n",
      "4\n",
      "5\n",
      "6\n",
      "7\n",
      "8\n",
      "9\n"
     ]
    }
   ],
   "source": [
    "ds_co_remapped = remapping_3d_fields(ds_co, ['CloudOpticalDepth'], lon_remapped, lat_remapped,None)\n",
    "ds_ci_remapped = remapping_3d_fields(ds_ci, ['GrayImagery'], lon_remapped, lat_remapped,None)\n",
    "ds_sw_remapped = remapping_3d_fields(ds_sw, ['ReflectedSW'], lon_remapped, lat_remapped,None)"
   ]
  }
 ],
 "metadata": {
  "kernelspec": {
   "display_name": "mlgeo_dataset",
   "language": "python",
   "name": "python3"
  },
  "language_info": {
   "codemirror_mode": {
    "name": "ipython",
    "version": 3
   },
   "file_extension": ".py",
   "mimetype": "text/x-python",
   "name": "python",
   "nbconvert_exporter": "python",
   "pygments_lexer": "ipython3",
   "version": "3.11.10"
  }
 },
 "nbformat": 4,
 "nbformat_minor": 2
}
