this is an accidental empty file, proceed to notebooks folder for proper Model_Training_Assessment
